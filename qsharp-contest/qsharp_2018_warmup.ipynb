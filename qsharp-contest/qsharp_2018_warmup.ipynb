{
 "cells": [
  {
   "cell_type": "markdown",
   "id": "reasonable-gibson",
   "metadata": {},
   "source": [
    "# Microsoft Q# Coding Contest - Summer 2018 - Warmup Round\n",
    "June 29 - July 2, 2018"
   ]
  },
  {
   "cell_type": "code",
   "execution_count": 1,
   "id": "aging-saskatchewan",
   "metadata": {},
   "outputs": [],
   "source": [
    "import math\n",
    "import numpy as np\n",
    "import qiskit"
   ]
  },
  {
   "cell_type": "markdown",
   "id": "czech-hostel",
   "metadata": {},
   "source": [
    "## Utility functions"
   ]
  },
  {
   "cell_type": "code",
   "execution_count": 2,
   "id": "regulated-nursery",
   "metadata": {},
   "outputs": [],
   "source": [
    "def get_statevector(qc):\n",
    "    backend = qiskit.Aer.get_backend('statevector_simulator')\n",
    "    result = qiskit.execute(qc, backend=backend).result()\n",
    "    sv = result.get_statevector()\n",
    "    return sv\n",
    "\n",
    "def get_amplitudes(qc, threshold=1e-7):\n",
    "    sv = get_statevector(qc)\n",
    "    return {bin(i)[2:].zfill(qc.num_qubits): a for i, a in enumerate(sv) if np.abs(a) > threshold}\n",
    "\n",
    "def get_probabilities(qc, threshold=1e-7):\n",
    "    sv = get_statevector(qc)\n",
    "    prob = np.real(sv*sv.conj())\n",
    "    return {bin(i)[2:].zfill(qc.num_qubits): p for i, p in enumerate(prob) if p > threshold}\n",
    "\n",
    "def get_counts(qc, shots=1000):\n",
    "    backend = qiskit.Aer.get_backend('qasm_simulator')\n",
    "    result = qiskit.execute(qc, backend=backend, shots=shots).result()\n",
    "    counts = result.get_counts()\n",
    "    return counts"
   ]
  },
  {
   "cell_type": "markdown",
   "id": "manufactured-shower",
   "metadata": {},
   "source": [
    "## A. Generate plus state or minus state"
   ]
  },
  {
   "cell_type": "markdown",
   "id": "stable-machinery",
   "metadata": {},
   "source": [
    "You are given a qubit in state $|0\\rangle$ and an integer sign.\n",
    "\n",
    "Your task is to convert the given qubit to state \n",
    "$$|+\\rangle = \\frac{1}{\\sqrt{2}}\\left(|0\\rangle + |1\\rangle\\right) \\quad \\text{if sign = 1},$$  or\n",
    "$$|-\\rangle = \\frac{1}{\\sqrt{2}}\\left(|0\\rangle - |1\\rangle\\right) \\quad \\text{if sign = -1}.$$\n",
    "\n",
    "You have to implement an operation which takes a qubit and an integer as an input and has no output. The\n",
    "\"output\" of your solution is the state in which it left the input qubit."
   ]
  },
  {
   "cell_type": "code",
   "execution_count": 3,
   "id": "pacific-disposition",
   "metadata": {},
   "outputs": [],
   "source": [
    "class GeneratePlusOrMinusState(qiskit.QuantumCircuit):\n",
    "    def __init__(self, sign):\n",
    "        self.sign = sign\n",
    "        super().__init__(1, name='plus' if sign > 0 else 'minus')\n",
    "        self._build()\n",
    "    \n",
    "    def _build(self):\n",
    "        if self.sign < 0:\n",
    "            self.x(0)\n",
    "        self.h(0)    "
   ]
  },
  {
   "cell_type": "code",
   "execution_count": 4,
   "id": "infrared-appraisal",
   "metadata": {},
   "outputs": [
    {
     "data": {
      "image/png": "[encoded data removed]",
      "text/plain": [
       "<Figure size 133.526x84.28 with 1 Axes>"
      ]
     },
     "execution_count": 4,
     "metadata": {},
     "output_type": "execute_result"
    }
   ],
   "source": [
    "qc = GeneratePlusOrMinusState(1)\n",
    "qc.draw('mpl')"
   ]
  },
  {
   "cell_type": "code",
   "execution_count": 5,
   "id": "peripheral-virginia",
   "metadata": {},
   "outputs": [
    {
     "data": {
      "text/plain": [
       "array([0.70710678+0.j, 0.70710678+0.j])"
      ]
     },
     "execution_count": 5,
     "metadata": {},
     "output_type": "execute_result"
    }
   ],
   "source": [
    "get_statevector(qc)"
   ]
  },
  {
   "cell_type": "code",
   "execution_count": 6,
   "id": "sustainable-amateur",
   "metadata": {},
   "outputs": [
    {
     "data": {
      "image/png": "[encoded data removed]",
      "text/plain": [
       "<Figure size 193.726x84.28 with 1 Axes>"
      ]
     },
     "execution_count": 6,
     "metadata": {},
     "output_type": "execute_result"
    }
   ],
   "source": [
    "qc = GeneratePlusOrMinusState(-1)\n",
    "qc.draw('mpl')"
   ]
  },
  {
   "cell_type": "code",
   "execution_count": 7,
   "id": "supposed-communications",
   "metadata": {},
   "outputs": [
    {
     "data": {
      "text/plain": [
       "array([ 0.70710678-8.65956056e-17j, -0.70710678+8.65956056e-17j])"
      ]
     },
     "execution_count": 7,
     "metadata": {},
     "output_type": "execute_result"
    }
   ],
   "source": [
    "get_statevector(qc)"
   ]
  },
  {
   "cell_type": "markdown",
   "id": "changed-aquatic",
   "metadata": {},
   "source": [
    "## B. Generate Bell state"
   ]
  },
  {
   "cell_type": "markdown",
   "id": "bibliographic-locator",
   "metadata": {},
   "source": [
    "You are given two qubits in state $|00\\rangle$ and an integer *index*. Your task is to create one of the Bell states on them\n",
    "according to the *index*:\n",
    "* $|B_0\\rangle = \\frac{1}{\\sqrt{2}}\\left(|00\\rangle + |11\\rangle\\right)$\n",
    "* $|B_1\\rangle = \\frac{1}{\\sqrt{2}}\\left(|00\\rangle - |11\\rangle\\right)$\n",
    "* $|B_2\\rangle = \\frac{1}{\\sqrt{2}}\\left(|01\\rangle + |10\\rangle\\right)$\n",
    "* $|B_3\\rangle = \\frac{1}{\\sqrt{2}}\\left(|01\\rangle - |10\\rangle\\right)$"
   ]
  },
  {
   "cell_type": "code",
   "execution_count": 8,
   "id": "transsexual-intensity",
   "metadata": {},
   "outputs": [],
   "source": [
    "class GenerateBellState(qiskit.QuantumCircuit):\n",
    "    def __init__(self, index):\n",
    "        self.index = index\n",
    "        super().__init__(2, name='bell_state')\n",
    "        self._build()\n",
    "        \n",
    "    def _build(self):\n",
    "        self.h(0)\n",
    "        self.cx(0, 1)\n",
    "        if 1 & self.index:\n",
    "            self.z(1)\n",
    "        if 2 & self.index:\n",
    "            self.x(0)"
   ]
  },
  {
   "cell_type": "code",
   "execution_count": 9,
   "id": "communist-links",
   "metadata": {},
   "outputs": [
    {
     "data": {
      "text/plain": [
       "array([0.70710678+0.j, 0.        +0.j, 0.        +0.j, 0.70710678+0.j])"
      ]
     },
     "execution_count": 9,
     "metadata": {},
     "output_type": "execute_result"
    }
   ],
   "source": [
    "qc = GenerateBellState(0)\n",
    "get_statevector(qc)"
   ]
  },
  {
   "cell_type": "code",
   "execution_count": 10,
   "id": "latin-florist",
   "metadata": {},
   "outputs": [
    {
     "data": {
      "text/plain": [
       "array([ 0.70710678+0.j,  0.        +0.j, -0.        +0.j, -0.70710678+0.j])"
      ]
     },
     "execution_count": 10,
     "metadata": {},
     "output_type": "execute_result"
    }
   ],
   "source": [
    "qc = GenerateBellState(1)\n",
    "get_statevector(qc)"
   ]
  },
  {
   "cell_type": "code",
   "execution_count": 11,
   "id": "known-archive",
   "metadata": {},
   "outputs": [
    {
     "data": {
      "text/plain": [
       "array([0.        +0.j, 0.70710678+0.j, 0.70710678+0.j, 0.        +0.j])"
      ]
     },
     "execution_count": 11,
     "metadata": {},
     "output_type": "execute_result"
    }
   ],
   "source": [
    "qc = GenerateBellState(2)\n",
    "get_statevector(qc)"
   ]
  },
  {
   "cell_type": "code",
   "execution_count": 12,
   "id": "suburban-controversy",
   "metadata": {},
   "outputs": [
    {
     "data": {
      "text/plain": [
       "array([ 0.        +0.j,  0.70710678+0.j, -0.70710678+0.j, -0.        +0.j])"
      ]
     },
     "execution_count": 12,
     "metadata": {},
     "output_type": "execute_result"
    }
   ],
   "source": [
    "qc = GenerateBellState(3)\n",
    "get_statevector(qc)"
   ]
  },
  {
   "cell_type": "markdown",
   "id": "elegant-microphone",
   "metadata": {},
   "source": [
    "## C. Generate GHZ state"
   ]
  },
  {
   "cell_type": "markdown",
   "id": "satellite-providence",
   "metadata": {},
   "source": [
    "You are given $N$ qubits $(1 \\le N \\le 8)$ in zero state $|0\\dots0\\rangle$. Your task is to create Greenberger-Horne-Zeilinger (GHZ) state on them:\n",
    "\n",
    "$$|\\text{GHZ}\\rangle =\\frac{1}{\\sqrt{2}}\\left(|0\\dots0\\rangle + |1\\dots1\\rangle\\right)$$\n",
    "\n",
    "Note that for $N = 1$ and $N = 2$ GHZ state becomes states $|+\\rangle$ and $|B_0\\rangle$ from the previous tasks, respectively.\n",
    "\n",
    "You have to implement an operation which takes an array of N qubits as an input and has no output. The \"output\"\n",
    "of your solution is the state in which it left the input qubits."
   ]
  },
  {
   "cell_type": "code",
   "execution_count": 13,
   "id": "consolidated-amino",
   "metadata": {},
   "outputs": [],
   "source": [
    "class GenerateGHZState(qiskit.QuantumCircuit):\n",
    "    def __init__(self, num_qubits):\n",
    "        super().__init__(num_qubits, name='GHZ')\n",
    "        self._build()\n",
    "        \n",
    "    def _build(self):\n",
    "        self.h(0)\n",
    "        for i in range(self.num_qubits-1):\n",
    "            self.cx(0, i+1)"
   ]
  },
  {
   "cell_type": "code",
   "execution_count": 14,
   "id": "animal-gothic",
   "metadata": {},
   "outputs": [
    {
     "data": {
      "text/plain": [
       "array([0.70710678+0.j, 0.70710678+0.j])"
      ]
     },
     "execution_count": 14,
     "metadata": {},
     "output_type": "execute_result"
    }
   ],
   "source": [
    "qc = GenerateGHZState(1)\n",
    "get_statevector(qc)"
   ]
  },
  {
   "cell_type": "code",
   "execution_count": 15,
   "id": "chubby-chester",
   "metadata": {},
   "outputs": [
    {
     "data": {
      "text/plain": [
       "array([0.70710678+0.j, 0.        +0.j, 0.        +0.j, 0.70710678+0.j])"
      ]
     },
     "execution_count": 15,
     "metadata": {},
     "output_type": "execute_result"
    }
   ],
   "source": [
    "qc = GenerateGHZState(2)\n",
    "get_statevector(qc)"
   ]
  },
  {
   "cell_type": "code",
   "execution_count": 16,
   "id": "hungry-draft",
   "metadata": {
    "scrolled": true
   },
   "outputs": [
    {
     "data": {
      "text/plain": [
       "array([0.70710678+0.j, 0.        +0.j, 0.        +0.j, 0.        +0.j,\n",
       "       0.        +0.j, 0.        +0.j, 0.        +0.j, 0.70710678+0.j])"
      ]
     },
     "execution_count": 16,
     "metadata": {},
     "output_type": "execute_result"
    }
   ],
   "source": [
    "qc = GenerateGHZState(3)\n",
    "get_statevector(qc)"
   ]
  },
  {
   "cell_type": "markdown",
   "id": "interesting-integrity",
   "metadata": {},
   "source": [
    "## D. Distinguish plus state and minus stat"
   ]
  },
  {
   "cell_type": "markdown",
   "id": "knowing-transparency",
   "metadata": {},
   "source": [
    "You are given a qubit which is guaranteed to be either in $|+\\rangle = \\frac{1}{\\sqrt{2}}\\left(|0\\rangle + |1\\rangle\\right)$  or in $|-\\rangle = \\frac{1}{\\sqrt{2}}\\left(|0\\rangle - |1\\rangle\\right)$ state.\n",
    "\n",
    "Your task is to perform necessary operations and measurements to figure out which state it was and to return 1 if\n",
    "it was a $|+\\rangle$ state or -1 if it was $|-\\rangle$ state. The state of the qubit after the operations does not matter.\n",
    "\n",
    "You have to implement an operation which takes a qubit as an input and returns an integer."
   ]
  },
  {
   "cell_type": "code",
   "execution_count": 17,
   "id": "healthy-chemical",
   "metadata": {},
   "outputs": [],
   "source": [
    "def check_plus_or_minus(qc):\n",
    "    qc.h(0)\n",
    "    qc.measure_all()\n",
    "    state = next(iter(get_counts(qc, 1).keys()))\n",
    "    return 1 if state == '0' else -1"
   ]
  },
  {
   "cell_type": "code",
   "execution_count": 18,
   "id": "handmade-township",
   "metadata": {
    "scrolled": true
   },
   "outputs": [
    {
     "data": {
      "text/plain": [
       "1"
      ]
     },
     "execution_count": 18,
     "metadata": {},
     "output_type": "execute_result"
    }
   ],
   "source": [
    "qc = GeneratePlusOrMinusState(1)\n",
    "check_plus_or_minus(qc)"
   ]
  },
  {
   "cell_type": "code",
   "execution_count": 19,
   "id": "turned-commodity",
   "metadata": {
    "scrolled": false
   },
   "outputs": [
    {
     "data": {
      "text/plain": [
       "-1"
      ]
     },
     "execution_count": 19,
     "metadata": {},
     "output_type": "execute_result"
    }
   ],
   "source": [
    "qc = GeneratePlusOrMinusState(-1)\n",
    "check_plus_or_minus(qc)"
   ]
  },
  {
   "cell_type": "markdown",
   "id": "printable-blogger",
   "metadata": {},
   "source": [
    "## E. Distinguish Bell states"
   ]
  },
  {
   "cell_type": "markdown",
   "id": "recovered-contract",
   "metadata": {},
   "source": [
    "You are given two qubits which are guaranteed to be in one of the Bell states:\n",
    "* $|B_0\\rangle = \\frac{1}{\\sqrt{2}}\\left(|00\\rangle + |11\\rangle\\right)$\n",
    "* $|B_1\\rangle = \\frac{1}{\\sqrt{2}}\\left(|00\\rangle - |11\\rangle\\right)$\n",
    "* $|B_2\\rangle = \\frac{1}{\\sqrt{2}}\\left(|01\\rangle + |10\\rangle\\right)$\n",
    "* $|B_3\\rangle = \\frac{1}{\\sqrt{2}}\\left(|01\\rangle - |10\\rangle\\right)$\n",
    "\n",
    "Your task is to perform necessary operations and measurements to figure out which state it was and to return the\n",
    "index of that state (0 for $|B_0\\rangle$, 1 for $|B_1\\rangle$ etc.). The state of the qubits after the operations does not matter.\n",
    "\n",
    "You have to implement an operation which takes an array of two qubits as an input and returns an integer."
   ]
  },
  {
   "cell_type": "code",
   "execution_count": 20,
   "id": "monthly-milton",
   "metadata": {},
   "outputs": [],
   "source": [
    "def check_bell_states(qc):\n",
    "    qc.cx(0, 1)\n",
    "    qc.h(0)\n",
    "    qc.measure_all()\n",
    "    state = next(iter(get_counts(qc, 1).keys()))\n",
    "    return int(state, base=2)"
   ]
  },
  {
   "cell_type": "code",
   "execution_count": 21,
   "id": "concerned-picking",
   "metadata": {},
   "outputs": [
    {
     "data": {
      "text/plain": [
       "0"
      ]
     },
     "execution_count": 21,
     "metadata": {},
     "output_type": "execute_result"
    }
   ],
   "source": [
    "qc = GenerateBellState(0)\n",
    "check_bell_states(qc)"
   ]
  },
  {
   "cell_type": "code",
   "execution_count": 22,
   "id": "hourly-flood",
   "metadata": {},
   "outputs": [
    {
     "data": {
      "text/plain": [
       "1"
      ]
     },
     "execution_count": 22,
     "metadata": {},
     "output_type": "execute_result"
    }
   ],
   "source": [
    "qc = GenerateBellState(1)\n",
    "check_bell_states(qc)"
   ]
  },
  {
   "cell_type": "code",
   "execution_count": 23,
   "id": "aging-encounter",
   "metadata": {},
   "outputs": [
    {
     "data": {
      "text/plain": [
       "2"
      ]
     },
     "execution_count": 23,
     "metadata": {},
     "output_type": "execute_result"
    }
   ],
   "source": [
    "qc = GenerateBellState(2)\n",
    "check_bell_states(qc)"
   ]
  },
  {
   "cell_type": "code",
   "execution_count": 24,
   "id": "dense-medicare",
   "metadata": {},
   "outputs": [
    {
     "data": {
      "text/plain": [
       "3"
      ]
     },
     "execution_count": 24,
     "metadata": {},
     "output_type": "execute_result"
    }
   ],
   "source": [
    "qc = GenerateBellState(3)\n",
    "check_bell_states(qc)"
   ]
  },
  {
   "cell_type": "markdown",
   "id": "thousand-david",
   "metadata": {},
   "source": [
    "## F. Distinguish multi-qubit basis state"
   ]
  },
  {
   "cell_type": "markdown",
   "id": "individual-bridges",
   "metadata": {},
   "source": [
    "You are given $N$ qubits which are guaranteed to be in one of two basis states on $N$ qubits. You are also given two\n",
    "bitstrings bits0 and bits1 which describe these basis states.\n",
    "Your task is to perform necessary operations and measurements to figure out which state it was and to return 0 if\n",
    "it was the state described with bits 0 or 1 if it was the state described with bits1. The state of the qubits after the\n",
    "operations does not matter.\n",
    "\n",
    "You have to implement an operation which takes the following inputs:\n",
    "* an array of qubits qs,\n",
    "* two arrays of boolean values bits0 and bits1, representing the basis states in which the qubits can be. These\n",
    "arrays will have the same length as the array of qubits. bits0 and bits1 will differ in at least one position.\n",
    "\n",
    "An array of boolean values represents a basis state as follows: the $i$-th element of the array is true if the $i$-th qubit\n",
    "is in state $|1\\rangle$, and false if it is in state $|0\\rangle$. For example, array `[true; false]` describes 2-qubit state $|10\\rangle$."
   ]
  },
  {
   "cell_type": "code",
   "execution_count": 25,
   "id": "ancient-audio",
   "metadata": {},
   "outputs": [],
   "source": [
    "def check_multi_qubit_basis_state(qc, bits0, bits1):\n",
    "    # get first different bit b/w bits0 and bits1\n",
    "    first_diff = np.argmax(np.logical_xor(bits0, bits1))\n",
    "    # measure first different bit in the quantum register\n",
    "    creg = qiskit.ClassicalRegister(1, 'meas')\n",
    "    qc.add_register(creg)\n",
    "    qc.measure(qc.num_qubits-first_diff-1, 0)\n",
    "    # get result\n",
    "    state = next(iter(get_counts(qc, 1).keys()))\n",
    "    return int((state == '1') ^ bool(bits0[first_diff]))"
   ]
  },
  {
   "cell_type": "code",
   "execution_count": 26,
   "id": "placed-notion",
   "metadata": {},
   "outputs": [],
   "source": [
    "class GenerateBasisState(qiskit.QuantumCircuit):\n",
    "    def __init__(self, state):\n",
    "        self.state = state\n",
    "        super().__init__(len(self.state), name='basis_state')\n",
    "        self._build()\n",
    "        \n",
    "    def _build(self):\n",
    "        for bit, qubit in zip(reversed(self.state), self.qubits):\n",
    "            if bit:\n",
    "                self.x(qubit)"
   ]
  },
  {
   "cell_type": "code",
   "execution_count": 27,
   "id": "modified-mineral",
   "metadata": {
    "scrolled": true
   },
   "outputs": [
    {
     "data": {
      "text/plain": [
       "{'1010': 1.0}"
      ]
     },
     "execution_count": 27,
     "metadata": {},
     "output_type": "execute_result"
    }
   ],
   "source": [
    "state = [1, 0, 1, 0]\n",
    "qc = GenerateBasisState(state)\n",
    "get_probabilities(qc)"
   ]
  },
  {
   "cell_type": "code",
   "execution_count": 28,
   "id": "supreme-breed",
   "metadata": {},
   "outputs": [
    {
     "data": {
      "text/plain": [
       "1"
      ]
     },
     "execution_count": 28,
     "metadata": {},
     "output_type": "execute_result"
    }
   ],
   "source": [
    "bits0 = [1, 0, 1, 0]\n",
    "bits1 = [0, 1, 1, 0]\n",
    "\n",
    "qc = GenerateBasisState(bits1)\n",
    "\n",
    "check_multi_qubit_basis_state(qc, bits0, bits1)"
   ]
  },
  {
   "cell_type": "markdown",
   "id": "exclusive-badge",
   "metadata": {},
   "source": [
    "## G. Oracle for $f(x) = k$-th element of $x$"
   ]
  },
  {
   "cell_type": "markdown",
   "id": "automated-marketing",
   "metadata": {},
   "source": [
    "Implement a quantum oracle on $N$ qubits which implements a function $f(x) = x_k$, i.e. the value of the function is\n",
    "the value of the $k$-th qubit.\n",
    "\n",
    "You have to implement an operation which takes the following inputs:\n",
    "* an array of qubits $x$ (input register),\n",
    "* a qubit $y$ (output qubit),\n",
    "* 0-based index of the qubit from input register $k \\, \\left(0 \\le k < \\text{Length}(x) \\right)$.\n",
    "\n",
    "The operation doesn't have an output; the \"output\" of your solution is the state in which it left the qubits."
   ]
  },
  {
   "cell_type": "code",
   "execution_count": 29,
   "id": "sustainable-anxiety",
   "metadata": {},
   "outputs": [],
   "source": [
    "class KthElementOracle(qiskit.QuantumCircuit):\n",
    "    def __init__(self, num_qubits, k):\n",
    "        self.k = k\n",
    "        self.xreg = qiskit.QuantumRegister(num_qubits, name='x')  # input register\n",
    "        self.yreg = qiskit.QuantumRegister(1, name='y')  # output qubit\n",
    "        super().__init__(self.xreg, self.yreg, name='oracle')\n",
    "        self._build()\n",
    "        \n",
    "    def _build(self):\n",
    "        self.cx(self.xreg[self.k], self.yreg[0])  # equivalently: self.cx(k, self.num_qubits)"
   ]
  },
  {
   "cell_type": "code",
   "execution_count": 30,
   "id": "perfect-camera",
   "metadata": {},
   "outputs": [
    {
     "data": {
      "image/png": "[encoded data removed]",
      "text/plain": [
       "<Figure size 206.132x325.08 with 1 Axes>"
      ]
     },
     "execution_count": 30,
     "metadata": {},
     "output_type": "execute_result"
    }
   ],
   "source": [
    "num_qubits = 4\n",
    "k = 2\n",
    "\n",
    "# initialize circuit with all equal superposition\n",
    "xreg = qiskit.QuantumRegister(num_qubits, name='x')  # input register\n",
    "yreg = qiskit.QuantumRegister(1, name='y')  # output qubit\n",
    "qc = qiskit.QuantumCircuit(xreg, yreg)\n",
    "qc.h(xreg)\n",
    "\n",
    "# apply oracle\n",
    "oracle = KthElementOracle(num_qubits, k)\n",
    "qc.extend(oracle)\n",
    "\n",
    "qc.draw('mpl')"
   ]
  },
  {
   "cell_type": "code",
   "execution_count": 31,
   "id": "attached-religion",
   "metadata": {
    "scrolled": true
   },
   "outputs": [
    {
     "name": "stdout",
     "output_type": "stream",
     "text": [
      "y  x\n",
      "\u001b[1;43m0\u001b[0m 0\u001b[1;43m0\u001b[0m00\n",
      "\u001b[1;43m0\u001b[0m 0\u001b[1;43m0\u001b[0m01\n",
      "\u001b[1;43m0\u001b[0m 0\u001b[1;43m0\u001b[0m10\n",
      "\u001b[1;43m0\u001b[0m 0\u001b[1;43m0\u001b[0m11\n",
      "\u001b[1;43m0\u001b[0m 1\u001b[1;43m0\u001b[0m00\n",
      "\u001b[1;43m0\u001b[0m 1\u001b[1;43m0\u001b[0m01\n",
      "\u001b[1;43m0\u001b[0m 1\u001b[1;43m0\u001b[0m10\n",
      "\u001b[1;43m0\u001b[0m 1\u001b[1;43m0\u001b[0m11\n",
      "\u001b[1;43m1\u001b[0m 0\u001b[1;43m1\u001b[0m00\n",
      "\u001b[1;43m1\u001b[0m 0\u001b[1;43m1\u001b[0m01\n",
      "\u001b[1;43m1\u001b[0m 0\u001b[1;43m1\u001b[0m10\n",
      "\u001b[1;43m1\u001b[0m 0\u001b[1;43m1\u001b[0m11\n",
      "\u001b[1;43m1\u001b[0m 1\u001b[1;43m1\u001b[0m00\n",
      "\u001b[1;43m1\u001b[0m 1\u001b[1;43m1\u001b[0m01\n",
      "\u001b[1;43m1\u001b[0m 1\u001b[1;43m1\u001b[0m10\n",
      "\u001b[1;43m1\u001b[0m 1\u001b[1;43m1\u001b[0m11\n"
     ]
    }
   ],
   "source": [
    "def highlight(s):\n",
    "    return '\\x1b[1;43m{0}\\x1b[0m'.format(s)\n",
    "\n",
    "kk = num_qubits - k - 1\n",
    "print('y%sx' % (' ' * (num_qubits//2)))\n",
    "for state in get_probabilities(qc):\n",
    "    x = state[1:]\n",
    "    y = state[0]\n",
    "    print('%s %s%s%s' % (highlight(y), x[:kk], highlight(x[kk]), x[kk+1:]))"
   ]
  },
  {
   "cell_type": "markdown",
   "id": "amber-pencil",
   "metadata": {},
   "source": [
    "## I. Deutsch-Jozsa algorithm"
   ]
  },
  {
   "cell_type": "markdown",
   "id": "female-artist",
   "metadata": {},
   "source": [
    "You are given a quantum oracle - an operation on $N + 1$ qubits which implements a function $f : \\{0, 1\\}^N \\to \\{0, 1\\}$.\n",
    "\n",
    "You are guaranteed that the function $f$ implemented by the oracle is either *constant* (returns 0 on all inputs or 1 on\n",
    "all inputs) or *balanced* (returns 0 on exactly one half of the input domain and 1 on the other half).\n",
    "\n",
    "There are only two possible constant functions: $f(x) = 0$ and $f(x) = 1$. The functions implemented by oracles in\n",
    "the two previous problems ($f(x) = x_k$ and $f(x) = \\sum_i x_i \\mod 2$) are examples of balanced functions.\n",
    "\n",
    "Your task is to figure out whether the function given by the oracle is constant. Your code is allowed to call the\n",
    "given oracle only once.\n",
    "\n",
    "You have to implement an operation which takes the following inputs:\n",
    "* an integer $N$ - the number of qubits in the oracle input,\n",
    "* an oracle $U_f$, implemented as an operation with signature `((Qubit[], Qubit) => ())`, i.e., an operation which\n",
    "takes as input an array of qubits and an output qubit and has no output.\n",
    "\n",
    "The return of your operation is a Boolean value: `true` if the oracle implements a constant function and `false`\n",
    "otherwise."
   ]
  },
  {
   "cell_type": "code",
   "execution_count": 32,
   "id": "fleet-graduate",
   "metadata": {},
   "outputs": [],
   "source": [
    "class ConstantOracle(qiskit.QuantumCircuit):\n",
    "    def __init__(self, num_qubits, output=0):\n",
    "        self.output = output\n",
    "        self.xreg = qiskit.QuantumRegister(num_qubits, name='x')  # input register\n",
    "        self.yreg = qiskit.QuantumRegister(1, name='y')  # output qubit\n",
    "        super().__init__(self.xreg, self.yreg, name='oracle')\n",
    "        self._build()\n",
    "        \n",
    "    def _build(self):\n",
    "        if self.output:\n",
    "            self.x(self.yreg[0])  # equivalently: self.x(self.num_qubits)\n",
    "\n",
    "\n",
    "class BalancedOracle(KthElementOracle):\n",
    "    def __init__(self, num_qubits, k=0):\n",
    "        super().__init__(num_qubits, k)"
   ]
  },
  {
   "cell_type": "code",
   "execution_count": 33,
   "id": "opening-aluminum",
   "metadata": {},
   "outputs": [],
   "source": [
    "def deutsch_jozsa(oracle):\n",
    "    num_qubits = oracle.num_qubits-1\n",
    "    # initialize circuit with all equal superposition in x\n",
    "    xreg = qiskit.QuantumRegister(num_qubits, name='x')  # input register\n",
    "    yreg = qiskit.QuantumRegister(1, name='y')  # output qubit\n",
    "    qc = qiskit.QuantumCircuit(xreg, yreg)\n",
    "    qc.h(xreg)\n",
    "    \n",
    "    # y -> |->\n",
    "    qc.x(yreg)\n",
    "    qc.h(yreg)\n",
    "    \n",
    "    # apply oracle\n",
    "    qc.extend(oracle)\n",
    "    \n",
    "    # apply inverse of Hadamard transform on x\n",
    "    qc.h(xreg)\n",
    "    \n",
    "    # measure x\n",
    "    creg = qiskit.ClassicalRegister(num_qubits, 'meas')\n",
    "    qc.add_register(creg)\n",
    "    qc.measure(xreg, creg)\n",
    "    \n",
    "    # sample result\n",
    "    return '0'*num_qubits in get_counts(qc)"
   ]
  },
  {
   "cell_type": "code",
   "execution_count": 34,
   "id": "fixed-statistics",
   "metadata": {},
   "outputs": [
    {
     "data": {
      "text/plain": [
       "True"
      ]
     },
     "execution_count": 34,
     "metadata": {},
     "output_type": "execute_result"
    }
   ],
   "source": [
    "num_qubits = 3\n",
    "oracle = ConstantOracle(num_qubits)\n",
    "deutsch_jozsa(oracle)"
   ]
  },
  {
   "cell_type": "code",
   "execution_count": 35,
   "id": "underlying-buyer",
   "metadata": {
    "scrolled": true
   },
   "outputs": [
    {
     "data": {
      "text/plain": [
       "False"
      ]
     },
     "execution_count": 35,
     "metadata": {},
     "output_type": "execute_result"
    }
   ],
   "source": [
    "num_qubits = 3\n",
    "oracle = BalancedOracle(num_qubits)\n",
    "deutsch_jozsa(oracle)"
   ]
  },
  {
   "cell_type": "code",
   "execution_count": 36,
   "id": "novel-summary",
   "metadata": {},
   "outputs": [
    {
     "data": {
      "text/html": [
       "<h3>Version Information</h3><table><tr><th>Qiskit Software</th><th>Version</th></tr><tr><td>Qiskit</td><td>0.23.2</td></tr><tr><td>Terra</td><td>0.16.1</td></tr><tr><td>Aer</td><td>0.7.2</td></tr><tr><td>Ignis</td><td>0.5.1</td></tr><tr><td>Aqua</td><td>0.8.1</td></tr><tr><td>IBM Q Provider</td><td>0.11.1</td></tr><tr><th>System information</th></tr><tr><td>Python</td><td>3.8.5 (default, Jul 28 2020, 12:59:40) \n",
       "[GCC 9.3.0]</td></tr><tr><td>OS</td><td>Linux</td></tr><tr><td>CPUs</td><td>4</td></tr><tr><td>Memory (Gb)</td><td>12.159130096435547</td></tr><tr><td colspan='2'>Sat Jan 23 23:53:13 2021 EST</td></tr></table>"
      ],
      "text/plain": [
       "<IPython.core.display.HTML object>"
      ]
     },
     "metadata": {},
     "output_type": "display_data"
    }
   ],
   "source": [
    "import qiskit.tools.jupyter\n",
    "%qiskit_version_table"
   ]
  },
  {
   "cell_type": "code",
   "execution_count": null,
   "id": "speaking-childhood",
   "metadata": {},
   "outputs": [],
   "source": []
  }
 ],
 "metadata": {
  "kernelspec": {
   "display_name": "Python 3",
   "language": "python",
   "name": "python3"
  },
  "language_info": {
   "codemirror_mode": {
    "name": "ipython",
    "version": 3
   },
   "file_extension": ".py",
   "mimetype": "text/x-python",
   "name": "python",
   "nbconvert_exporter": "python",
   "pygments_lexer": "ipython3",
   "version": "3.8.5"
  }
 },
 "nbformat": 4,
 "nbformat_minor": 5
}
